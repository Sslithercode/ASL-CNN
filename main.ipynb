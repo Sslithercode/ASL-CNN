{
 "cells": [
  {
   "cell_type": "code",
   "execution_count": 2,
   "metadata": {},
   "outputs": [],
   "source": [
    "import numpy as np \n",
    "import keras \n",
    "import cv2\n",
    "import tensorflow as tf\n",
    "from keras_preprocessing.image import ImageDataGenerator"
   ]
  },
  {
   "cell_type": "code",
   "execution_count": 3,
   "metadata": {},
   "outputs": [],
   "source": [
    "train_gen  = ImageDataGenerator(rescale=1/255)\n",
    "train_val  = ImageDataGenerator(rescale=1/255)"
   ]
  },
  {
   "cell_type": "code",
   "execution_count": 4,
   "metadata": {},
   "outputs": [
    {
     "name": "stdout",
     "output_type": "stream",
     "text": [
      "Found 87000 images belonging to 29 classes.\n",
      "Found 29 images belonging to 29 classes.\n"
     ]
    }
   ],
   "source": [
    "train_data =  train_gen.flow_from_directory(\"images/asl_alphabet_train\",target_size=(50,50),batch_size=200,class_mode='categorical',color_mode='rgb')\n",
    "train_val_data  = train_val.flow_from_directory(\"images/asl_alphabet_test\",target_size=(50,50),batch_size=10,class_mode='categorical',color_mode='rgb')"
   ]
  },
  {
   "cell_type": "code",
   "execution_count": 5,
   "metadata": {},
   "outputs": [],
   "source": [
    "model = keras.Sequential([\n",
    "    keras.layers.Conv2D(16,(3,3),input_shape=(50,50,3),activation=\"relu\"),\n",
    "\n",
    "    keras.layers.Conv2D(32,(3,3),activation=\"relu\"),\n",
    "    keras.layers.MaxPool2D(2,2),\n",
    "     keras.layers.Conv2D(64,(3,3),activation=\"relu\"),\n",
    "    keras.layers.MaxPool2D(2,2),\n",
    "\n",
    "\n",
    "\n",
    "\n",
    "    keras.layers.Flatten(),\n",
    "\n",
    "    keras.layers.Dense(600,activation=\"relu\"),\n",
    "    keras.layers.Dropout(0.2),\n",
    "    keras.layers.Dense(29,activation=\"softmax\")\n",
    "\n",
    "\n",
    "    ])\n",
    "\n",
    "\n",
    "model.compile(optimizer=\"adam\",loss=['categorical_crossentropy'],metrics='accuracy')"
   ]
  },
  {
   "cell_type": "code",
   "execution_count": 6,
   "metadata": {},
   "outputs": [
    {
     "name": "stdout",
     "output_type": "stream",
     "text": [
      "Epoch 1/3\n",
      "435/435 [==============================] - 46s 99ms/step - loss: 0.9939 - accuracy: 0.7018\n",
      "Epoch 2/3\n",
      "435/435 [==============================] - 43s 100ms/step - loss: 0.1400 - accuracy: 0.9553\n",
      "Epoch 3/3\n",
      "435/435 [==============================] - 40s 92ms/step - loss: 0.0613 - accuracy: 0.9806\n"
     ]
    },
    {
     "data": {
      "text/plain": [
       "<keras.callbacks.History at 0x177ba3ac848>"
      ]
     },
     "execution_count": 6,
     "metadata": {},
     "output_type": "execute_result"
    }
   ],
   "source": [
    "model.fit(train_data,epochs=3) "
   ]
  },
  {
   "cell_type": "code",
   "execution_count": null,
   "metadata": {},
   "outputs": [],
   "source": []
  },
  {
   "cell_type": "code",
   "execution_count": 8,
   "metadata": {},
   "outputs": [
    {
     "name": "stdout",
     "output_type": "stream",
     "text": [
      "3/3 [==============================] - 1s 40ms/step - loss: 0.0269 - accuracy: 1.0000\n"
     ]
    },
    {
     "data": {
      "text/plain": [
       "[0.026910819113254547, 1.0]"
      ]
     },
     "execution_count": 8,
     "metadata": {},
     "output_type": "execute_result"
    }
   ],
   "source": [
    "model.evaluate(train_val_data)"
   ]
  },
  {
   "cell_type": "code",
   "execution_count": 9,
   "metadata": {},
   "outputs": [],
   "source": [
    "model.save('ASL_model.h5')"
   ]
  }
 ],
 "metadata": {
  "kernelspec": {
   "display_name": "Python 3",
   "language": "python",
   "name": "python3"
  },
  "language_info": {
   "codemirror_mode": {
    "name": "ipython",
    "version": 3
   },
   "file_extension": ".py",
   "mimetype": "text/x-python",
   "name": "python",
   "nbconvert_exporter": "python",
   "pygments_lexer": "ipython3",
   "version": "3.7.7"
  },
  "orig_nbformat": 4,
  "vscode": {
   "interpreter": {
    "hash": "2b1f438e7674e48ba3e208c41a5804a31a2dca38d9a731700bbdea6f3e28d20b"
   }
  }
 },
 "nbformat": 4,
 "nbformat_minor": 2
}
